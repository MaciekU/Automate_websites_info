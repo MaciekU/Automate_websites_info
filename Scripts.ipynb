{
 "cells": [
  {
   "cell_type": "markdown",
   "metadata": {},
   "source": [
    "# 1. Automate openning websites"
   ]
  },
  {
   "cell_type": "code",
   "execution_count": 2,
   "metadata": {},
   "outputs": [
    {
     "name": "stdout",
     "output_type": "stream",
     "text": [
      "Opened 2 websites from 5. Press any key to open more\n",
      "Opened 4 websites from 5. Press any key to open more\n",
      "Opened 5 websites from 5. Press any key to open more\n",
      "End of websites list\n"
     ]
    }
   ],
   "source": [
    "import webbrowser\n",
    "\n",
    "# Later change input to from for example file (doesn't matter what file: csv, txt, excel etc.)\n",
    "list_of_websites=['www.google.com', 'netflix.com', 'github.com', '15.72.228.83', 'facebook.com']\n",
    "\n",
    "\n",
    "def open_websites(max_tabs_to_open = 2):\n",
    "    website_counter = 0\n",
    "\n",
    "    while website_counter < len(list_of_websites):\n",
    "\n",
    "        for i in range(0, max_tabs_to_open):\n",
    "\n",
    "            if website_counter >= len(list_of_websites):\n",
    "                break # end for loop if no more sites in list\n",
    "\n",
    "            webbrowser.open_new_tab(list_of_websites[website_counter])\n",
    "            website_counter += 1\n",
    "\n",
    "        input(f\"Opened {website_counter} websites from {len(list_of_websites)}. Press any key to open more\")\n",
    "\n",
    "    print(\"End of websites list\")\n",
    "    \n",
    "open_websites()\n"
   ]
  },
  {
   "cell_type": "code",
   "execution_count": null,
   "metadata": {},
   "outputs": [],
   "source": []
  }
 ],
 "metadata": {
  "kernelspec": {
   "display_name": "Python 3",
   "language": "python",
   "name": "python3"
  },
  "language_info": {
   "codemirror_mode": {
    "name": "ipython",
    "version": 3
   },
   "file_extension": ".py",
   "mimetype": "text/x-python",
   "name": "python",
   "nbconvert_exporter": "python",
   "pygments_lexer": "ipython3",
   "version": "3.8.2"
  }
 },
 "nbformat": 4,
 "nbformat_minor": 2
}
